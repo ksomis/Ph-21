{
 "cells": [
  {
   "cell_type": "markdown",
   "metadata": {},
   "source": [
    "# Ph 21 Assignment 5"
   ]
  },
  {
   "cell_type": "markdown",
   "metadata": {},
   "source": [
    "## 1"
   ]
  },
  {
   "cell_type": "markdown",
   "metadata": {},
   "source": [
    "For this project we will be referencing \"A Tutorial on Principal Component Analysis\" by Jonathon Shlens"
   ]
  },
  {
   "cell_type": "markdown",
   "metadata": {},
   "source": [
    "## 2"
   ]
  },
  {
   "cell_type": "markdown",
   "metadata": {},
   "source": [
    "Now we will write some code to compute the principle components of a general set of measurements "
   ]
  },
  {
   "cell_type": "code",
   "execution_count": 6,
   "metadata": {},
   "outputs": [],
   "source": [
    "import numpy as np\n",
    "from numpy import linalg as LA "
   ]
  },
  {
   "cell_type": "code",
   "execution_count": null,
   "metadata": {},
   "outputs": [],
   "source": [
    "def PCA(Data):\n",
    "    Mean = np.mean(Data.T,axis=1)\n",
    "    Center = (Data-Mean).T \n",
    "    [Varience,Vectors] = LA.eig(np.cov(Center)) \n",
    "    Projected = np.dot(Vectors.T,Center) \n",
    "    return Vectors,Projected,Varience"
   ]
  },
  {
   "cell_type": "markdown",
   "metadata": {},
   "source": [
    "## 3"
   ]
  },
  {
   "cell_type": "markdown",
   "metadata": {},
   "source": [
    "Now let's test this code on a simple dataset where $x_i$ is linearly dependent on $y_i$. Let's say $y_i = x_i +5$"
   ]
  },
  {
   "cell_type": "code",
   "execution_count": 206,
   "metadata": {},
   "outputs": [],
   "source": [
    "def twoDtestdata(n,r1,r2,er):\n",
    "    xs = []\n",
    "    ys = []\n",
    "    for i in range(0,n):\n",
    "        x = np.random.uniform(r1,r2)\n",
    "        xer = np.random.uniform(-er,er)\n",
    "        y = x + 5\n",
    "        yer = np.random.uniform(-er,er)\n",
    "        xs.append(x+xer)\n",
    "        ys.append(y+yer)\n",
    "    td = [xs,ys]\n",
    "    return(np.array(td))\n",
    "\n",
    "tdtd = twoDtestdata(50,0,20,2)"
   ]
  },
  {
   "cell_type": "code",
   "execution_count": 234,
   "metadata": {},
   "outputs": [
    {
     "data": {
      "image/png": "[encoded data removed]",
      "text/plain": [
       "<Figure size 432x288 with 1 Axes>"
      ]
     },
     "metadata": {
      "needs_background": "light"
     },
     "output_type": "display_data"
    }
   ],
   "source": [
    "A = tdtd\n",
    "\n",
    "vec,proj,var = PCA(A.T)\n",
    "\n",
    "plt.figure()\n",
    "M = np.mean(A,axis=1)\n",
    "plt.plot([0, -vec[0,0]*7]+M[0], [0, -vec[0,1]*7]+M[1],'--r')\n",
    "plt.plot([0, vec[1,0]*7]+M[0], [0, vec[1,1]*7]+M[1],'--r')\n",
    "plt.plot(A[0,:],A[1,:],'ob')\n",
    "plt.show()"
   ]
  },
  {
   "cell_type": "markdown",
   "metadata": {},
   "source": [
    "## 4"
   ]
  },
  {
   "cell_type": "markdown",
   "metadata": {},
   "source": [
    "Now let's consider a three camera problem."
   ]
  },
  {
   "cell_type": "code",
   "execution_count": 227,
   "metadata": {},
   "outputs": [],
   "source": [
    "def threecamtestdata(n,r1,r2,er):\n",
    "    tds = []\n",
    "    for j in ((1,5),(-3,50),(3,-20)):\n",
    "        xs = []\n",
    "        ys = []\n",
    "        m,b = j\n",
    "        for i in range(0,n):\n",
    "            x = np.random.uniform(r1,r2)\n",
    "            xer = np.random.uniform(-er,er)\n",
    "            y = m*x + b\n",
    "            yer = np.random.uniform(-er,er)\n",
    "            xs.append(x+xer)\n",
    "            ys.append(y+yer)\n",
    "        tds.append(xs)\n",
    "        tds.append(ys)\n",
    "    return(np.array(tds))\n",
    "\n",
    "tctd = threecamtestdata(50,0,20,2)"
   ]
  },
  {
   "cell_type": "code",
   "execution_count": 210,
   "metadata": {},
   "outputs": [
    {
     "data": {
      "image/png": "[encoded data removed]",
      "text/plain": [
       "<Figure size 432x288 with 1 Axes>"
      ]
     },
     "metadata": {
      "needs_background": "light"
     },
     "output_type": "display_data"
    }
   ],
   "source": [
    "C = tctd\n",
    "plt.figure()\n",
    "plt.plot(C[0,:],C[1,:],'ob')\n",
    "plt.plot(C[2,:],C[3,:],'or')\n",
    "plt.plot(C[4,:],C[5,:],'og')\n",
    "plt.show()"
   ]
  },
  {
   "cell_type": "code",
   "execution_count": 232,
   "metadata": {},
   "outputs": [
    {
     "data": {
      "text/plain": [
       "(array([[-0.12088417, -0.09249426,  0.69044853, -0.59071107, -0.34564473,\n",
       "         -0.1780528 ],\n",
       "        [-0.11203099, -0.10798195,  0.68977409,  0.57961062,  0.35399485,\n",
       "          0.19682436],\n",
       "        [ 0.19426047,  0.24544277,  0.05635708, -0.14697811, -0.23667649,\n",
       "          0.90621536],\n",
       "        [-0.55280179, -0.74249925, -0.20523794, -0.05639895, -0.07762103,\n",
       "          0.30294646],\n",
       "        [-0.23236386,  0.18623537, -0.02279913, -0.51172097,  0.79571814,\n",
       "          0.12561018],\n",
       "        [-0.75862782,  0.57754117, -0.04091443,  0.16873114, -0.2449678 ,\n",
       "         -0.02786802]]),\n",
       " array([[ 6.31657896e+00,  1.26745731e+01,  1.03865237e+01,\n",
       "          5.79177154e+00, -3.38286915e+00,  3.99790020e+00,\n",
       "          1.38850705e+01, -2.46804991e+01, -4.16969683e+00,\n",
       "         -1.44971364e+01,  1.19831676e+01, -2.83295096e+01,\n",
       "          1.97292467e+00,  1.24354857e+01,  2.35221585e+01,\n",
       "          2.51798826e+01, -5.01937788e+00,  1.27208138e+00,\n",
       "         -2.48190776e+01,  2.44064795e+01,  2.87613261e+01,\n",
       "         -2.57251598e+01, -2.02510096e+01, -1.80588263e+01,\n",
       "         -2.30192633e+01,  1.20945444e+01,  1.31469079e+01,\n",
       "         -2.62561762e+01,  8.91716938e+00,  2.07935429e+01,\n",
       "          1.30243783e+01, -2.96028303e+01, -1.66550787e+01,\n",
       "         -1.53081631e+00,  2.43240144e+01,  2.92462355e+01,\n",
       "          2.52072764e+00,  1.01678888e+01, -9.05715413e-01,\n",
       "         -1.00569889e+01, -2.48986328e+01,  1.46872335e+01,\n",
       "         -7.85031412e+00, -9.78617700e+00, -2.03193363e+01,\n",
       "          4.05910330e+00, -2.33729602e+01, -1.21950558e+01,\n",
       "          4.95037654e+00,  3.48644609e+01],\n",
       "        [-1.07722220e+01,  9.68589633e+00, -2.27640400e+01,\n",
       "         -1.81799988e+01,  7.95650665e+00,  2.23814650e+01,\n",
       "         -3.53625182e+01,  3.72489133e+00,  9.93385301e+00,\n",
       "         -2.98696328e+01, -3.50542873e+01, -1.22668736e+01,\n",
       "          7.19470077e-01,  8.07986466e+00, -1.32911589e+01,\n",
       "         -3.59418282e+00,  2.76990338e+01,  2.34921577e+01,\n",
       "         -8.64081014e+00,  1.40553111e+01, -7.18871536e-01,\n",
       "         -6.09248858e+00,  6.70575735e+00,  1.12265926e+00,\n",
       "          1.43811117e-01,  4.52395292e-01, -7.22009862e-01,\n",
       "         -7.09889208e+00, -1.58850816e+01,  4.37513258e+00,\n",
       "          6.92331007e+00, -1.68750250e+01,  9.35238127e+00,\n",
       "          1.53323054e+00, -6.19309002e+00,  8.76336214e-01,\n",
       "          3.21745334e-03, -2.45028873e+00,  2.18441229e+01,\n",
       "          3.30025642e+01, -1.10862967e+01,  1.24323000e+01,\n",
       "         -7.46303105e+00,  1.70241652e+01, -2.35451700e+01,\n",
       "          3.86379706e+00,  5.66062287e+00,  2.32060973e+01,\n",
       "          1.78383312e+01, -6.16271171e+00],\n",
       "        [ 1.20534827e+01, -3.87668734e+00,  1.46410432e+01,\n",
       "         -1.33644975e+01, -1.14536149e+01,  8.02277393e+00,\n",
       "          8.07770183e+00,  1.81046709e+00, -6.95022231e+00,\n",
       "         -6.41878498e+00, -3.11282368e+00, -1.37838189e+01,\n",
       "          1.68410973e+01, -7.31867618e+00, -8.00743687e+00,\n",
       "         -8.14263333e+00, -1.01651430e+01,  6.23253331e+00,\n",
       "          9.69842463e+00, -3.27779080e+00,  1.79522435e+01,\n",
       "          5.45664216e+00,  9.79418108e+00, -1.53571400e+01,\n",
       "          1.02790647e+01, -5.56543310e+00, -4.55449883e-01,\n",
       "          1.18528043e+01, -1.76605664e+00, -5.87199046e+00,\n",
       "          5.77239975e+00,  7.41523539e+00, -1.16735818e+01,\n",
       "          8.08605415e+00, -5.04767521e+00, -5.86859397e-01,\n",
       "          1.43146797e+00,  8.87792566e-01,  1.25779669e+01,\n",
       "          1.51968735e+01, -8.48953068e+00, -5.62221425e+00,\n",
       "         -1.02914026e+01, -8.38106205e+00,  2.02241322e+00,\n",
       "         -2.83721124e+00, -5.82716647e+00, -1.48772953e+00,\n",
       "         -6.55403554e+00,  5.58400550e+00],\n",
       "        [-5.85258890e-01,  6.40130169e-01,  8.12551198e-01,\n",
       "          2.61815270e-01, -7.90088407e-02,  9.77627812e-02,\n",
       "         -9.88426567e-01, -1.88791257e+00, -1.28552514e+00,\n",
       "         -9.83938502e-01,  6.99723500e-01,  2.09550036e-01,\n",
       "         -1.36526151e+00, -4.79599293e-01, -1.25698157e+00,\n",
       "          1.75711339e+00, -2.50748910e-01, -8.96900686e-02,\n",
       "         -1.20329807e+00,  3.66520395e-02,  8.04003032e-01,\n",
       "         -1.20174894e+00,  1.21947207e-01,  6.71311072e-01,\n",
       "          1.99678472e+00,  1.52004472e+00,  2.04528522e-01,\n",
       "          9.09053444e-01,  5.33407843e-01, -6.62063532e-01,\n",
       "          1.47320769e+00, -2.86558649e-01,  3.70876268e-01,\n",
       "          1.07832360e-01, -1.18211902e+00, -1.06670159e+00,\n",
       "         -4.86921962e-01,  5.89712005e-01,  1.57935843e-01,\n",
       "          4.32621811e-01,  6.33439238e-01, -1.79450030e+00,\n",
       "          8.12111543e-01,  4.62193027e-01,  2.32328263e-01,\n",
       "          1.71830220e-01,  7.56917134e-01, -7.21693077e-01,\n",
       "         -4.83089852e-02,  4.28881626e-01],\n",
       "        [ 2.15271981e-01, -1.23276822e+00,  7.72586951e-01,\n",
       "         -3.82162427e-01, -1.96248338e-01, -1.72752276e+00,\n",
       "         -3.99906767e-01,  4.82234563e-01,  5.24795289e-01,\n",
       "          1.28099442e+00, -1.42144609e+00, -4.58198657e-01,\n",
       "          1.32683141e+00, -8.38175629e-01, -1.30004545e+00,\n",
       "         -4.52457758e-01,  1.44502095e+00, -1.64214858e+00,\n",
       "         -3.05615531e-01, -2.70923218e-01, -2.50510142e+00,\n",
       "         -5.06731674e-01, -1.57011971e-01, -4.82015973e-01,\n",
       "          1.06332946e+00,  2.74295911e+00,  6.17757025e-01,\n",
       "          1.24181793e-01, -1.55161109e+00, -1.40569336e-01,\n",
       "          3.61858456e-01, -2.60085502e+00, -1.07033630e+00,\n",
       "          1.69139438e+00, -1.61439400e-01,  4.71018298e-01,\n",
       "          9.39341635e-01, -1.83609832e+00,  1.69012686e+00,\n",
       "         -5.58887956e-01,  3.59700556e+00,  1.12603420e+00,\n",
       "         -2.31777423e+00,  5.33952925e-01,  1.25805919e+00,\n",
       "          2.00299756e+00, -1.06771772e+00, -2.42864507e+00,\n",
       "          1.22964983e+00,  2.51501308e+00],\n",
       "        [-7.75293716e-01,  4.86370518e-01, -1.42015789e-01,\n",
       "         -9.97633793e-02,  1.56367944e-01, -2.00694196e+00,\n",
       "         -9.15109587e-01, -1.59795658e+00,  1.07816290e-01,\n",
       "         -6.21016431e-01,  2.91322812e-01, -1.93447207e+00,\n",
       "          9.44624999e-01,  1.25594032e+00,  1.35233842e+00,\n",
       "         -5.65162087e-01, -1.05860355e+00,  1.25914113e+00,\n",
       "          4.91373930e-01, -1.26901743e+00,  3.74342741e-02,\n",
       "         -1.31692393e+00, -1.11460707e+00,  7.92299052e-01,\n",
       "         -1.10955085e+00, -5.76951534e-01,  2.01892805e+00,\n",
       "         -7.59392155e-01, -1.34440508e-01, -1.38345668e+00,\n",
       "          4.60144118e-01,  1.16019017e+00, -1.07472108e+00,\n",
       "          2.04278522e+00, -1.33476734e+00,  7.89848575e-01,\n",
       "          2.61136950e+00, -1.25462169e+00,  4.11454946e-01,\n",
       "          6.06991946e-01, -5.55816501e-01,  9.50456492e-01,\n",
       "          1.19423943e+00,  1.21727672e+00,  2.46136751e+00,\n",
       "         -1.84610530e+00,  2.06624970e+00, -1.67839630e+00,\n",
       "          1.52068153e+00, -1.56191009e+00]]),\n",
       " array([317.27989826, 238.03172037,  80.20301914,   0.80634331,\n",
       "          1.96642528,   1.57373629]))"
      ]
     },
     "execution_count": 232,
     "metadata": {},
     "output_type": "execute_result"
    }
   ],
   "source": [
    "PCA(tctd.T)"
   ]
  }
 ],
 "metadata": {
  "kernelspec": {
   "display_name": "Python 3",
   "language": "python",
   "name": "python3"
  },
  "language_info": {
   "codemirror_mode": {
    "name": "ipython",
    "version": 3
   },
   "file_extension": ".py",
   "mimetype": "text/x-python",
   "name": "python",
   "nbconvert_exporter": "python",
   "pygments_lexer": "ipython3",
   "version": "3.7.6"
  }
 },
 "nbformat": 4,
 "nbformat_minor": 4
}
